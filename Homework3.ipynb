{
 "cells": [
  {
   "cell_type": "code",
   "execution_count": null,
   "metadata": {},
   "outputs": [],
   "source": [
    "#11-3\n",
    "\n",
    "from tkinter import *\n",
    "\n",
    "alphabet = { }\n",
    "filename = input(\"파일 이름을 입력하시오 : \")\n",
    "file = open(filename, \"r\")\n",
    "infile = file.readlines()\n",
    "\n",
    "for line in infile:\n",
    "    for ch in line:\n",
    "        if ch in alphabet:\n",
    "            alphabet[ch] += 1\n",
    "        else:\n",
    "            alphabet[ch] = 1\n",
    "print(alphabet)\n",
    "\n",
    "file.close()"
   ]
  },
  {
   "cell_type": "code",
   "execution_count": null,
   "metadata": {},
   "outputs": [],
   "source": [
    "#11-5\n",
    "\n",
    "file1 = input(\"입력 파일 이름 : \")\n",
    "file2 = input(\"출력 파일 이름 : \")\n",
    "\n",
    "infile = open(file1, \"r\")\n",
    "outfile = open(file2, \"w\")\n",
    "\n",
    "line = infile.readlines()\n",
    "total = 0\n",
    "avg = 0\n",
    "count = 0\n",
    "for s in line:\n",
    "    total += float(s)\n",
    "    count += 1\n",
    "    avg = total / count\n",
    "\n",
    "print(\"합계=\" + str(total), file = outfile)\n",
    "print(\"평균=\" + str(avg), file = outfile)\n",
    "\n",
    "infile.close()\n",
    "outfile.close()"
   ]
  },
  {
   "cell_type": "code",
   "execution_count": null,
   "metadata": {},
   "outputs": [],
   "source": [
    "#13-1\n",
    "\n",
    "PI = 3.141592\n",
    "\n",
    "class Circle:\n",
    "    def __init__(self, radius):\n",
    "        self.radius = radius\n",
    "    def calcArea(self):\n",
    "        self.calcarea = PI * self.radius * self.radius\n",
    "    def calcPerimeter(self):\n",
    "        self.calcperimeter = PI * self.radius * 2\n",
    "        \n",
    "    def __str__(self):\n",
    "        msg = \"반지름: \" + str(self.radius)  + \", 원의 면적: \" + str(self.calcarea) + \", 원의 둘레: \" + str(self.calcperimeter)       \n",
    "        return msg\n",
    "\n",
    "    \n",
    "radius = int(input(\"반지름을 입력하세요 : \"))\n",
    "myCircle = Circle(radius)\n",
    "myCircle.calcArea()\n",
    "myCircle.calcPerimeter()\n",
    "print(myCircle)\n",
    "\n"
   ]
  },
  {
   "cell_type": "code",
   "execution_count": null,
   "metadata": {},
   "outputs": [],
   "source": [
    "#13-4\n",
    "\n",
    "\n",
    "from turtle import *         #turtle 모듈에서 모든 것을 불러온다.\n",
    "\n",
    "class MyTurtle(Turtle): \n",
    "    def drawSquare(self):\n",
    "        for i in range(4):\n",
    "            self.right(90)\n",
    "            self.forward(100)\n",
    "\n",
    "my_turtle = MyTurtle()\n",
    "my_turtle.forward(100)\n",
    "my_turtle.drawSquare()\n"
   ]
  }
 ],
 "metadata": {
  "kernelspec": {
   "display_name": "Python 3",
   "language": "python",
   "name": "python3"
  },
  "language_info": {
   "codemirror_mode": {
    "name": "ipython",
    "version": 3
   },
   "file_extension": ".py",
   "mimetype": "text/x-python",
   "name": "python",
   "nbconvert_exporter": "python",
   "pygments_lexer": "ipython3",
   "version": "3.7.6"
  }
 },
 "nbformat": 4,
 "nbformat_minor": 4
}
